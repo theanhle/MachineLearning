{
 "cells": [
  {
   "cell_type": "code",
   "execution_count": 19,
   "metadata": {
    "collapsed": false
   },
   "outputs": [
    {
     "name": "stdout",
     "output_type": "stream",
     "text": [
      "Test constant:  10.0\n",
      "Test variable:  [10.0, 10]\n",
      "Test function:  -18\n",
      "Test function:  [ 4 -6]\n"
     ]
    }
   ],
   "source": [
    "#https://www.tensorflow.org/get_started/get_started#tensorflow_core_tutorial\n",
    "import tensorflow as tf\n",
    "\n",
    "constant1=tf.constant(3, tf.float32)\n",
    "constant2=tf.constant(7, tf.float32)\n",
    "sum=tf.add(constant1, constant2)\n",
    "with tf.Session() as sess:\n",
    "    print(\"Test constant: \",sess.run(sum))\n",
    "    \n",
    "var1=tf.placeholder(tf.int32)\n",
    "var2=tf.placeholder(tf.int32)\n",
    "adder_node=var1+var2\n",
    "with tf.Session() as sess:\n",
    "    print(\"Test variable: \",sess.run([sum, adder_node], {var1: 2, var2: 8}))\n",
    "    \n",
    "def subtract(a, b):\n",
    "    return(a-b)\n",
    "sub=subtract(var1, var2)\n",
    "with tf.Session() as sess:\n",
    "    c=sess.run(sub, {var1: 1, var2: 19})\n",
    "    print(\"Test function: \", c)\n",
    "    c=sess.run(sub, {var1: [9,2], var2: [5,8]})\n",
    "    print(\"Test function: \", c)"
   ]
  },
  {
   "cell_type": "code",
   "execution_count": 30,
   "metadata": {
    "collapsed": false
   },
   "outputs": [
    {
     "name": "stdout",
     "output_type": "stream",
     "text": [
      "0.0\n",
      "[array([ 0.,  0.,  0.,  0.], dtype=float32), 0.0]\n"
     ]
    }
   ],
   "source": [
    "#Linear model\n",
    "W=tf.Variable([.3], tf.float32)\n",
    "b=tf.Variable([-.3], tf.float32)\n",
    "x=tf.placeholder(tf.float32)\n",
    "y=tf.placeholder(tf.float32)\n",
    "\n",
    "linear_model=x*W+b\n",
    "squared_deltas=tf.square(linear_model-y)\n",
    "loss=tf.reduce_sum(squared_deltas)\n",
    "init=tf.global_variables_initializer()\n",
    "with tf.Session() as sess:\n",
    "    sess.run(init)\n",
    "    feed_dict=[1,2,3,4]\n",
    "    fixW=tf.assign(W,[-1.])\n",
    "    fixb=tf.assign(b,[1.])\n",
    "    sess.run([fixW, fixb])\n",
    "    #sess.run([tf.assign(W,[-1.]),tf.assign(b,[1.])])\n",
    "    print(sess.run(loss,{x:feed_dict, y:[0,-1,-2,-3]}))\n",
    "    print(sess.run([squared_deltas,loss],{x:feed_dict, y:[0,-1,-2,-3]}))\n",
    "    "
   ]
  },
  {
   "cell_type": "code",
   "execution_count": 37,
   "metadata": {
    "collapsed": false
   },
   "outputs": [
    {
     "name": "stdout",
     "output_type": "stream",
     "text": [
      "[array([-0.9999969], dtype=float32), array([ 0.99999082], dtype=float32)]\n"
     ]
    }
   ],
   "source": [
    "# Using optimizer in TF\n",
    "x=tf.placeholder(tf.float32) # input\n",
    "t=tf.placeholder(tf.float32) # target\n",
    "W=tf.Variable([.3], tf.float32) # weight\n",
    "b=tf.Variable([-.3], tf.float32) # bias\n",
    "y=W*x+b #output\n",
    "cost=tf.square(t-y)\n",
    "loss=tf.reduce_sum(cost)\n",
    "\n",
    "optimizer=tf.train.GradientDescentOptimizer(0.01)\n",
    "train=optimizer.minimize(loss)\n",
    "init=tf.global_variables_initializer()\n",
    "with tf.Session() as sess:\n",
    "    sess.run(init)\n",
    "    for step in range(1000):\n",
    "        sess.run(train, {x:[1,2,3,4], t:[0,-1,-2,-3]})\n",
    "    print(sess.run([W, b]))"
   ]
  },
  {
   "cell_type": "code",
   "execution_count": 44,
   "metadata": {
    "collapsed": false
   },
   "outputs": [
    {
     "name": "stdout",
     "output_type": "stream",
     "text": [
      "W: [-0.9999969], b: [ 0.99999082], loss: 5.69997e-11\n",
      "Test:  [-10.99997234   3.9999814    5.99997568 -14.99995995]\n"
     ]
    }
   ],
   "source": [
    "# The completed trainable linear regression model\n",
    "import numpy as np\n",
    "import tensorflow as tf\n",
    "# Model parameters\n",
    "W=tf.Variable([.3], tf.float32)\n",
    "b=tf.Variable([-.3], tf.float32)\n",
    "# Model input & ouput\n",
    "x=tf.placeholder(tf.float32)\n",
    "linear_model=W*x+b\n",
    "y=tf.placeholder(tf.float32)\n",
    "# loss\n",
    "loss=tf.reduce_sum(tf.square(y-linear_model))\n",
    "# optimizer\n",
    "optimizer=tf.train.GradientDescentOptimizer(0.01)\n",
    "train=optimizer.minimize(loss)\n",
    "# Train data: y = -x + 1\n",
    "x_train=[1,2,3,4]\n",
    "y_train=[0,-1,-2,-3]\n",
    "# train model\n",
    "init=tf.global_variables_initializer()\n",
    "with tf.Session() as sess:\n",
    "    sess.run(init)\n",
    "    for step in range(1000):\n",
    "        sess.run(train, {x: x_train, y: y_train})\n",
    "    # evaluate training accuracy\n",
    "    current_W, current_b, current_loss = sess.run([W, b, loss],{x: x_train, y: y_train})\n",
    "    print(\"W: %s, b: %s, loss: %s\" %(current_W, current_b, current_loss))\n",
    "    # test model    \n",
    "    x_test=[12,-3,-5,16]\n",
    "    ouput_test=sess.run(linear_model,{x: x_test})\n",
    "    print(\"Test: \", ouput_test)"
   ]
  }
 ],
 "metadata": {
  "kernelspec": {
   "display_name": "Python 3",
   "language": "python",
   "name": "python3"
  },
  "language_info": {
   "codemirror_mode": {
    "name": "ipython",
    "version": 3
   },
   "file_extension": ".py",
   "mimetype": "text/x-python",
   "name": "python",
   "nbconvert_exporter": "python",
   "pygments_lexer": "ipython3",
   "version": "3.5.2"
  }
 },
 "nbformat": 4,
 "nbformat_minor": 2
}
